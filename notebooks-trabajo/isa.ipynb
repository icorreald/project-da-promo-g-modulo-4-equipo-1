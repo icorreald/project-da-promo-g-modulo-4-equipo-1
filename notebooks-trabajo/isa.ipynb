{
 "cells": [
  {
   "cell_type": "code",
   "execution_count": 1,
   "metadata": {},
   "outputs": [],
   "source": [
    "import pandas as pd\n",
    "import numpy as np\n",
    "pd.set_option('display.max_columns', None)"
   ]
  },
  {
   "cell_type": "code",
   "execution_count": 2,
   "metadata": {},
   "outputs": [],
   "source": [
    "df = pd.read_csv('../df_primera_limpieza.csv', index_col=0)"
   ]
  },
  {
   "cell_type": "code",
   "execution_count": 3,
   "metadata": {},
   "outputs": [
    {
     "data": {
      "text/plain": [
       "array([ 0., nan,  2., 14.,  1.,  3.])"
      ]
     },
     "execution_count": 3,
     "metadata": {},
     "output_type": "execute_result"
    }
   ],
   "source": [
    "df[df['customer_type']=='Group']['children'].unique()"
   ]
  },
  {
   "cell_type": "code",
   "execution_count": 4,
   "metadata": {},
   "outputs": [
    {
     "data": {
      "text/html": [
       "<div>\n",
       "<style scoped>\n",
       "    .dataframe tbody tr th:only-of-type {\n",
       "        vertical-align: middle;\n",
       "    }\n",
       "\n",
       "    .dataframe tbody tr th {\n",
       "        vertical-align: top;\n",
       "    }\n",
       "\n",
       "    .dataframe thead th {\n",
       "        text-align: right;\n",
       "    }\n",
       "</style>\n",
       "<table border=\"1\" class=\"dataframe\">\n",
       "  <thead>\n",
       "    <tr style=\"text-align: right;\">\n",
       "      <th></th>\n",
       "      <th>children</th>\n",
       "      <th>customer_type</th>\n",
       "    </tr>\n",
       "  </thead>\n",
       "  <tbody>\n",
       "    <tr>\n",
       "      <th>8047</th>\n",
       "      <td>19.0</td>\n",
       "      <td>Transient</td>\n",
       "    </tr>\n",
       "    <tr>\n",
       "      <th>10267</th>\n",
       "      <td>17.0</td>\n",
       "      <td>Transient</td>\n",
       "    </tr>\n",
       "    <tr>\n",
       "      <th>11534</th>\n",
       "      <td>11.0</td>\n",
       "      <td>Transient</td>\n",
       "    </tr>\n",
       "    <tr>\n",
       "      <th>12812</th>\n",
       "      <td>18.0</td>\n",
       "      <td>Transient</td>\n",
       "    </tr>\n",
       "    <tr>\n",
       "      <th>12980</th>\n",
       "      <td>13.0</td>\n",
       "      <td>Transient</td>\n",
       "    </tr>\n",
       "    <tr>\n",
       "      <th>13467</th>\n",
       "      <td>17.0</td>\n",
       "      <td>Transient</td>\n",
       "    </tr>\n",
       "    <tr>\n",
       "      <th>13507</th>\n",
       "      <td>18.0</td>\n",
       "      <td>Transient</td>\n",
       "    </tr>\n",
       "    <tr>\n",
       "      <th>18310</th>\n",
       "      <td>11.0</td>\n",
       "      <td>Transient</td>\n",
       "    </tr>\n",
       "    <tr>\n",
       "      <th>27221</th>\n",
       "      <td>16.0</td>\n",
       "      <td>Transient</td>\n",
       "    </tr>\n",
       "    <tr>\n",
       "      <th>30801</th>\n",
       "      <td>14.0</td>\n",
       "      <td>Transient</td>\n",
       "    </tr>\n",
       "    <tr>\n",
       "      <th>32138</th>\n",
       "      <td>16.0</td>\n",
       "      <td>Transient</td>\n",
       "    </tr>\n",
       "    <tr>\n",
       "      <th>32262</th>\n",
       "      <td>11.0</td>\n",
       "      <td>Transient</td>\n",
       "    </tr>\n",
       "    <tr>\n",
       "      <th>39937</th>\n",
       "      <td>13.0</td>\n",
       "      <td>Transient</td>\n",
       "    </tr>\n",
       "    <tr>\n",
       "      <th>49420</th>\n",
       "      <td>12.0</td>\n",
       "      <td>Transient</td>\n",
       "    </tr>\n",
       "    <tr>\n",
       "      <th>50129</th>\n",
       "      <td>17.0</td>\n",
       "      <td>Transient</td>\n",
       "    </tr>\n",
       "    <tr>\n",
       "      <th>51624</th>\n",
       "      <td>14.0</td>\n",
       "      <td>Transient</td>\n",
       "    </tr>\n",
       "    <tr>\n",
       "      <th>54675</th>\n",
       "      <td>18.0</td>\n",
       "      <td>Transient</td>\n",
       "    </tr>\n",
       "    <tr>\n",
       "      <th>57723</th>\n",
       "      <td>13.0</td>\n",
       "      <td>Transient</td>\n",
       "    </tr>\n",
       "    <tr>\n",
       "      <th>60769</th>\n",
       "      <td>11.0</td>\n",
       "      <td>Transient</td>\n",
       "    </tr>\n",
       "    <tr>\n",
       "      <th>61040</th>\n",
       "      <td>16.0</td>\n",
       "      <td>Transient</td>\n",
       "    </tr>\n",
       "    <tr>\n",
       "      <th>61727</th>\n",
       "      <td>15.0</td>\n",
       "      <td>Transient</td>\n",
       "    </tr>\n",
       "    <tr>\n",
       "      <th>62278</th>\n",
       "      <td>18.0</td>\n",
       "      <td>Transient</td>\n",
       "    </tr>\n",
       "    <tr>\n",
       "      <th>68849</th>\n",
       "      <td>14.0</td>\n",
       "      <td>Transient</td>\n",
       "    </tr>\n",
       "    <tr>\n",
       "      <th>73445</th>\n",
       "      <td>15.0</td>\n",
       "      <td>Transient</td>\n",
       "    </tr>\n",
       "    <tr>\n",
       "      <th>74897</th>\n",
       "      <td>11.0</td>\n",
       "      <td>Transient</td>\n",
       "    </tr>\n",
       "    <tr>\n",
       "      <th>75014</th>\n",
       "      <td>15.0</td>\n",
       "      <td>Transient</td>\n",
       "    </tr>\n",
       "    <tr>\n",
       "      <th>82086</th>\n",
       "      <td>14.0</td>\n",
       "      <td>Transient</td>\n",
       "    </tr>\n",
       "    <tr>\n",
       "      <th>93009</th>\n",
       "      <td>13.0</td>\n",
       "      <td>Transient</td>\n",
       "    </tr>\n",
       "    <tr>\n",
       "      <th>94546</th>\n",
       "      <td>12.0</td>\n",
       "      <td>Transient</td>\n",
       "    </tr>\n",
       "    <tr>\n",
       "      <th>94621</th>\n",
       "      <td>14.0</td>\n",
       "      <td>Transient</td>\n",
       "    </tr>\n",
       "    <tr>\n",
       "      <th>97988</th>\n",
       "      <td>14.0</td>\n",
       "      <td>Transient</td>\n",
       "    </tr>\n",
       "    <tr>\n",
       "      <th>100287</th>\n",
       "      <td>18.0</td>\n",
       "      <td>Transient</td>\n",
       "    </tr>\n",
       "    <tr>\n",
       "      <th>102843</th>\n",
       "      <td>18.0</td>\n",
       "      <td>Transient</td>\n",
       "    </tr>\n",
       "    <tr>\n",
       "      <th>108424</th>\n",
       "      <td>15.0</td>\n",
       "      <td>Transient</td>\n",
       "    </tr>\n",
       "    <tr>\n",
       "      <th>112085</th>\n",
       "      <td>18.0</td>\n",
       "      <td>Transient</td>\n",
       "    </tr>\n",
       "    <tr>\n",
       "      <th>112761</th>\n",
       "      <td>18.0</td>\n",
       "      <td>Transient</td>\n",
       "    </tr>\n",
       "  </tbody>\n",
       "</table>\n",
       "</div>"
      ],
      "text/plain": [
       "        children customer_type\n",
       "8047        19.0     Transient\n",
       "10267       17.0     Transient\n",
       "11534       11.0     Transient\n",
       "12812       18.0     Transient\n",
       "12980       13.0     Transient\n",
       "13467       17.0     Transient\n",
       "13507       18.0     Transient\n",
       "18310       11.0     Transient\n",
       "27221       16.0     Transient\n",
       "30801       14.0     Transient\n",
       "32138       16.0     Transient\n",
       "32262       11.0     Transient\n",
       "39937       13.0     Transient\n",
       "49420       12.0     Transient\n",
       "50129       17.0     Transient\n",
       "51624       14.0     Transient\n",
       "54675       18.0     Transient\n",
       "57723       13.0     Transient\n",
       "60769       11.0     Transient\n",
       "61040       16.0     Transient\n",
       "61727       15.0     Transient\n",
       "62278       18.0     Transient\n",
       "68849       14.0     Transient\n",
       "73445       15.0     Transient\n",
       "74897       11.0     Transient\n",
       "75014       15.0     Transient\n",
       "82086       14.0     Transient\n",
       "93009       13.0     Transient\n",
       "94546       12.0     Transient\n",
       "94621       14.0     Transient\n",
       "97988       14.0     Transient\n",
       "100287      18.0     Transient\n",
       "102843      18.0     Transient\n",
       "108424      15.0     Transient\n",
       "112085      18.0     Transient\n",
       "112761      18.0     Transient"
      ]
     },
     "execution_count": 4,
     "metadata": {},
     "output_type": "execute_result"
    }
   ],
   "source": [
    "df[(df['children']>10)&(df['customer_type']=='Transient')][['children', 'customer_type']]"
   ]
  },
  {
   "cell_type": "code",
   "execution_count": 5,
   "metadata": {},
   "outputs": [
    {
     "data": {
      "text/html": [
       "<div>\n",
       "<style scoped>\n",
       "    .dataframe tbody tr th:only-of-type {\n",
       "        vertical-align: middle;\n",
       "    }\n",
       "\n",
       "    .dataframe tbody tr th {\n",
       "        vertical-align: top;\n",
       "    }\n",
       "\n",
       "    .dataframe thead th {\n",
       "        text-align: right;\n",
       "    }\n",
       "</style>\n",
       "<table border=\"1\" class=\"dataframe\">\n",
       "  <thead>\n",
       "    <tr style=\"text-align: right;\">\n",
       "      <th></th>\n",
       "      <th>hotel</th>\n",
       "      <th>is_canceled</th>\n",
       "      <th>lead_time</th>\n",
       "      <th>arrival_date_year</th>\n",
       "      <th>arrival_date_month</th>\n",
       "      <th>arrival_date_week_number</th>\n",
       "      <th>arrival_date_day_of_month</th>\n",
       "      <th>stays_in_weekend_nights</th>\n",
       "      <th>stays_in_week_nights</th>\n",
       "      <th>adults</th>\n",
       "      <th>children</th>\n",
       "      <th>babies</th>\n",
       "      <th>meal</th>\n",
       "      <th>country</th>\n",
       "      <th>market_segment</th>\n",
       "      <th>distribution_channel</th>\n",
       "      <th>is_repeated_guest</th>\n",
       "      <th>previous_cancellations</th>\n",
       "      <th>previous_bookings_not_canceled</th>\n",
       "      <th>reserved_room_type</th>\n",
       "      <th>assigned_room_type</th>\n",
       "      <th>booking_changes</th>\n",
       "      <th>agent</th>\n",
       "      <th>company</th>\n",
       "      <th>days_in_waiting_list</th>\n",
       "      <th>customer_type</th>\n",
       "      <th>adr</th>\n",
       "      <th>required_car_parking_spaces</th>\n",
       "      <th>total_of_special_requests</th>\n",
       "      <th>reservation_status</th>\n",
       "      <th>reservation_status_date</th>\n",
       "      <th>0</th>\n",
       "    </tr>\n",
       "  </thead>\n",
       "  <tbody>\n",
       "    <tr>\n",
       "      <th>0</th>\n",
       "      <td>Resort Hotel</td>\n",
       "      <td>False</td>\n",
       "      <td>342.0</td>\n",
       "      <td>2015.0</td>\n",
       "      <td>July</td>\n",
       "      <td>27.0</td>\n",
       "      <td>1.0</td>\n",
       "      <td>0.0</td>\n",
       "      <td>0.0</td>\n",
       "      <td>2.0</td>\n",
       "      <td>NaN</td>\n",
       "      <td>0.0</td>\n",
       "      <td>BB</td>\n",
       "      <td>PRT</td>\n",
       "      <td>NaN</td>\n",
       "      <td>Direct</td>\n",
       "      <td>0.0</td>\n",
       "      <td>NaN</td>\n",
       "      <td>0.0</td>\n",
       "      <td>C</td>\n",
       "      <td>C</td>\n",
       "      <td>3.0</td>\n",
       "      <td>NaN</td>\n",
       "      <td>NaN</td>\n",
       "      <td>0.0</td>\n",
       "      <td>Transient</td>\n",
       "      <td>0.00</td>\n",
       "      <td>0.0</td>\n",
       "      <td>0.0</td>\n",
       "      <td>Check-Out</td>\n",
       "      <td>2015-07-01 00:00:00</td>\n",
       "      <td>NaN</td>\n",
       "    </tr>\n",
       "    <tr>\n",
       "      <th>6</th>\n",
       "      <td>Resort Hotel</td>\n",
       "      <td>False</td>\n",
       "      <td>0.0</td>\n",
       "      <td>2015.0</td>\n",
       "      <td>July</td>\n",
       "      <td>NaN</td>\n",
       "      <td>1.0</td>\n",
       "      <td>0.0</td>\n",
       "      <td>2.0</td>\n",
       "      <td>2.0</td>\n",
       "      <td>NaN</td>\n",
       "      <td>0.0</td>\n",
       "      <td>BB</td>\n",
       "      <td>NaN</td>\n",
       "      <td>Direct</td>\n",
       "      <td>Direct</td>\n",
       "      <td>0.0</td>\n",
       "      <td>NaN</td>\n",
       "      <td>0.0</td>\n",
       "      <td>C</td>\n",
       "      <td>C</td>\n",
       "      <td>0.0</td>\n",
       "      <td>NaN</td>\n",
       "      <td>NaN</td>\n",
       "      <td>0.0</td>\n",
       "      <td>NaN</td>\n",
       "      <td>107.00</td>\n",
       "      <td>0.0</td>\n",
       "      <td>0.0</td>\n",
       "      <td>Check-Out</td>\n",
       "      <td>2015-07-03 00:00:00</td>\n",
       "      <td>NaN</td>\n",
       "    </tr>\n",
       "    <tr>\n",
       "      <th>7</th>\n",
       "      <td>Resort Hotel</td>\n",
       "      <td>False</td>\n",
       "      <td>9.0</td>\n",
       "      <td>2015.0</td>\n",
       "      <td>July</td>\n",
       "      <td>27.0</td>\n",
       "      <td>1.0</td>\n",
       "      <td>0.0</td>\n",
       "      <td>2.0</td>\n",
       "      <td>2.0</td>\n",
       "      <td>0.0</td>\n",
       "      <td>0.0</td>\n",
       "      <td>FB</td>\n",
       "      <td>NaN</td>\n",
       "      <td>Direct</td>\n",
       "      <td>Direct</td>\n",
       "      <td>0.0</td>\n",
       "      <td>NaN</td>\n",
       "      <td>0.0</td>\n",
       "      <td>C</td>\n",
       "      <td>C</td>\n",
       "      <td>0.0</td>\n",
       "      <td>303.0</td>\n",
       "      <td>NaN</td>\n",
       "      <td>0.0</td>\n",
       "      <td>NaN</td>\n",
       "      <td>103.00</td>\n",
       "      <td>0.0</td>\n",
       "      <td>1.0</td>\n",
       "      <td>Check-Out</td>\n",
       "      <td>2015-07-03 00:00:00</td>\n",
       "      <td>NaN</td>\n",
       "    </tr>\n",
       "    <tr>\n",
       "      <th>8</th>\n",
       "      <td>Resort Hotel</td>\n",
       "      <td>True</td>\n",
       "      <td>85.0</td>\n",
       "      <td>2015.0</td>\n",
       "      <td>July</td>\n",
       "      <td>27.0</td>\n",
       "      <td>1.0</td>\n",
       "      <td>0.0</td>\n",
       "      <td>3.0</td>\n",
       "      <td>2.0</td>\n",
       "      <td>0.0</td>\n",
       "      <td>0.0</td>\n",
       "      <td>BB</td>\n",
       "      <td>PRT</td>\n",
       "      <td>NaN</td>\n",
       "      <td>NaN</td>\n",
       "      <td>0.0</td>\n",
       "      <td>NaN</td>\n",
       "      <td>0.0</td>\n",
       "      <td>A</td>\n",
       "      <td>A</td>\n",
       "      <td>0.0</td>\n",
       "      <td>240.0</td>\n",
       "      <td>NaN</td>\n",
       "      <td>0.0</td>\n",
       "      <td>Transient</td>\n",
       "      <td>82.00</td>\n",
       "      <td>0.0</td>\n",
       "      <td>1.0</td>\n",
       "      <td>Canceled</td>\n",
       "      <td>2015-05-06 00:00:00</td>\n",
       "      <td>NaN</td>\n",
       "    </tr>\n",
       "    <tr>\n",
       "      <th>14</th>\n",
       "      <td>Resort Hotel</td>\n",
       "      <td>False</td>\n",
       "      <td>37.0</td>\n",
       "      <td>2015.0</td>\n",
       "      <td>July</td>\n",
       "      <td>27.0</td>\n",
       "      <td>1.0</td>\n",
       "      <td>0.0</td>\n",
       "      <td>4.0</td>\n",
       "      <td>2.0</td>\n",
       "      <td>NaN</td>\n",
       "      <td>0.0</td>\n",
       "      <td>BB</td>\n",
       "      <td>NaN</td>\n",
       "      <td>Online TA</td>\n",
       "      <td>TA/TO</td>\n",
       "      <td>0.0</td>\n",
       "      <td>NaN</td>\n",
       "      <td>0.0</td>\n",
       "      <td>E</td>\n",
       "      <td>E</td>\n",
       "      <td>0.0</td>\n",
       "      <td>241.0</td>\n",
       "      <td>NaN</td>\n",
       "      <td>0.0</td>\n",
       "      <td>Transient</td>\n",
       "      <td>94.71</td>\n",
       "      <td>0.0</td>\n",
       "      <td>0.0</td>\n",
       "      <td>Check-Out</td>\n",
       "      <td>2015-07-05 00:00:00</td>\n",
       "      <td>NaN</td>\n",
       "    </tr>\n",
       "    <tr>\n",
       "      <th>...</th>\n",
       "      <td>...</td>\n",
       "      <td>...</td>\n",
       "      <td>...</td>\n",
       "      <td>...</td>\n",
       "      <td>...</td>\n",
       "      <td>...</td>\n",
       "      <td>...</td>\n",
       "      <td>...</td>\n",
       "      <td>...</td>\n",
       "      <td>...</td>\n",
       "      <td>...</td>\n",
       "      <td>...</td>\n",
       "      <td>...</td>\n",
       "      <td>...</td>\n",
       "      <td>...</td>\n",
       "      <td>...</td>\n",
       "      <td>...</td>\n",
       "      <td>...</td>\n",
       "      <td>...</td>\n",
       "      <td>...</td>\n",
       "      <td>...</td>\n",
       "      <td>...</td>\n",
       "      <td>...</td>\n",
       "      <td>...</td>\n",
       "      <td>...</td>\n",
       "      <td>...</td>\n",
       "      <td>...</td>\n",
       "      <td>...</td>\n",
       "      <td>...</td>\n",
       "      <td>...</td>\n",
       "      <td>...</td>\n",
       "      <td>...</td>\n",
       "    </tr>\n",
       "    <tr>\n",
       "      <th>119374</th>\n",
       "      <td>City Hotel</td>\n",
       "      <td>False</td>\n",
       "      <td>201.0</td>\n",
       "      <td>2017.0</td>\n",
       "      <td>August</td>\n",
       "      <td>35.0</td>\n",
       "      <td>29.0</td>\n",
       "      <td>1.0</td>\n",
       "      <td>5.0</td>\n",
       "      <td>2.0</td>\n",
       "      <td>NaN</td>\n",
       "      <td>0.0</td>\n",
       "      <td>BB</td>\n",
       "      <td>DEU</td>\n",
       "      <td>NaN</td>\n",
       "      <td>TA/TO</td>\n",
       "      <td>0.0</td>\n",
       "      <td>NaN</td>\n",
       "      <td>0.0</td>\n",
       "      <td>A</td>\n",
       "      <td>A</td>\n",
       "      <td>0.0</td>\n",
       "      <td>9.0</td>\n",
       "      <td>NaN</td>\n",
       "      <td>0.0</td>\n",
       "      <td>Transient</td>\n",
       "      <td>117.00</td>\n",
       "      <td>0.0</td>\n",
       "      <td>2.0</td>\n",
       "      <td>Check-Out</td>\n",
       "      <td>2017-04-09 00:00:00</td>\n",
       "      <td>NaN</td>\n",
       "    </tr>\n",
       "    <tr>\n",
       "      <th>119377</th>\n",
       "      <td>City Hotel</td>\n",
       "      <td>False</td>\n",
       "      <td>185.0</td>\n",
       "      <td>2017.0</td>\n",
       "      <td>August</td>\n",
       "      <td>35.0</td>\n",
       "      <td>30.0</td>\n",
       "      <td>1.0</td>\n",
       "      <td>4.0</td>\n",
       "      <td>2.0</td>\n",
       "      <td>0.0</td>\n",
       "      <td>0.0</td>\n",
       "      <td>SC</td>\n",
       "      <td>CHE</td>\n",
       "      <td>NaN</td>\n",
       "      <td>TA/TO</td>\n",
       "      <td>0.0</td>\n",
       "      <td>NaN</td>\n",
       "      <td>0.0</td>\n",
       "      <td>A</td>\n",
       "      <td>A</td>\n",
       "      <td>0.0</td>\n",
       "      <td>9.0</td>\n",
       "      <td>NaN</td>\n",
       "      <td>0.0</td>\n",
       "      <td>Transient</td>\n",
       "      <td>99.00</td>\n",
       "      <td>0.0</td>\n",
       "      <td>1.0</td>\n",
       "      <td>Check-Out</td>\n",
       "      <td>NaN</td>\n",
       "      <td>NaN</td>\n",
       "    </tr>\n",
       "    <tr>\n",
       "      <th>119383</th>\n",
       "      <td>City Hotel</td>\n",
       "      <td>False</td>\n",
       "      <td>164.0</td>\n",
       "      <td>2017.0</td>\n",
       "      <td>August</td>\n",
       "      <td>35.0</td>\n",
       "      <td>31.0</td>\n",
       "      <td>2.0</td>\n",
       "      <td>4.0</td>\n",
       "      <td>2.0</td>\n",
       "      <td>0.0</td>\n",
       "      <td>0.0</td>\n",
       "      <td>BB</td>\n",
       "      <td>DEU</td>\n",
       "      <td>NaN</td>\n",
       "      <td>TA/TO</td>\n",
       "      <td>0.0</td>\n",
       "      <td>NaN</td>\n",
       "      <td>0.0</td>\n",
       "      <td>NaN</td>\n",
       "      <td>A</td>\n",
       "      <td>0.0</td>\n",
       "      <td>42.0</td>\n",
       "      <td>NaN</td>\n",
       "      <td>0.0</td>\n",
       "      <td>Transient</td>\n",
       "      <td>87.60</td>\n",
       "      <td>0.0</td>\n",
       "      <td>0.0</td>\n",
       "      <td>Check-Out</td>\n",
       "      <td>NaN</td>\n",
       "      <td>NaN</td>\n",
       "    </tr>\n",
       "    <tr>\n",
       "      <th>119384</th>\n",
       "      <td>City Hotel</td>\n",
       "      <td>False</td>\n",
       "      <td>21.0</td>\n",
       "      <td>NaN</td>\n",
       "      <td>August</td>\n",
       "      <td>NaN</td>\n",
       "      <td>30.0</td>\n",
       "      <td>2.0</td>\n",
       "      <td>5.0</td>\n",
       "      <td>2.0</td>\n",
       "      <td>0.0</td>\n",
       "      <td>0.0</td>\n",
       "      <td>BB</td>\n",
       "      <td>BEL</td>\n",
       "      <td>NaN</td>\n",
       "      <td>TA/TO</td>\n",
       "      <td>0.0</td>\n",
       "      <td>NaN</td>\n",
       "      <td>0.0</td>\n",
       "      <td>A</td>\n",
       "      <td>A</td>\n",
       "      <td>0.0</td>\n",
       "      <td>394.0</td>\n",
       "      <td>NaN</td>\n",
       "      <td>0.0</td>\n",
       "      <td>Transient</td>\n",
       "      <td>96.14</td>\n",
       "      <td>0.0</td>\n",
       "      <td>2.0</td>\n",
       "      <td>Check-Out</td>\n",
       "      <td>2017-06-09 00:00:00</td>\n",
       "      <td>NaN</td>\n",
       "    </tr>\n",
       "    <tr>\n",
       "      <th>119386</th>\n",
       "      <td>City Hotel</td>\n",
       "      <td>False</td>\n",
       "      <td>102.0</td>\n",
       "      <td>NaN</td>\n",
       "      <td>August</td>\n",
       "      <td>35.0</td>\n",
       "      <td>31.0</td>\n",
       "      <td>2.0</td>\n",
       "      <td>5.0</td>\n",
       "      <td>3.0</td>\n",
       "      <td>NaN</td>\n",
       "      <td>0.0</td>\n",
       "      <td>BB</td>\n",
       "      <td>FRA</td>\n",
       "      <td>NaN</td>\n",
       "      <td>TA/TO</td>\n",
       "      <td>0.0</td>\n",
       "      <td>NaN</td>\n",
       "      <td>0.0</td>\n",
       "      <td>E</td>\n",
       "      <td>E</td>\n",
       "      <td>0.0</td>\n",
       "      <td>9.0</td>\n",
       "      <td>NaN</td>\n",
       "      <td>0.0</td>\n",
       "      <td>Transient</td>\n",
       "      <td>225.43</td>\n",
       "      <td>0.0</td>\n",
       "      <td>2.0</td>\n",
       "      <td>Check-Out</td>\n",
       "      <td>2017-07-09 00:00:00</td>\n",
       "      <td>NaN</td>\n",
       "    </tr>\n",
       "  </tbody>\n",
       "</table>\n",
       "<p>42859 rows × 32 columns</p>\n",
       "</div>"
      ],
      "text/plain": [
       "               hotel  is_canceled  lead_time  arrival_date_year  \\\n",
       "0       Resort Hotel        False      342.0             2015.0   \n",
       "6       Resort Hotel        False        0.0             2015.0   \n",
       "7       Resort Hotel        False        9.0             2015.0   \n",
       "8       Resort Hotel         True       85.0             2015.0   \n",
       "14      Resort Hotel        False       37.0             2015.0   \n",
       "...              ...          ...        ...                ...   \n",
       "119374    City Hotel        False      201.0             2017.0   \n",
       "119377    City Hotel        False      185.0             2017.0   \n",
       "119383    City Hotel        False      164.0             2017.0   \n",
       "119384    City Hotel        False       21.0                NaN   \n",
       "119386    City Hotel        False      102.0                NaN   \n",
       "\n",
       "       arrival_date_month  arrival_date_week_number  \\\n",
       "0                    July                      27.0   \n",
       "6                    July                       NaN   \n",
       "7                    July                      27.0   \n",
       "8                    July                      27.0   \n",
       "14                   July                      27.0   \n",
       "...                   ...                       ...   \n",
       "119374             August                      35.0   \n",
       "119377             August                      35.0   \n",
       "119383             August                      35.0   \n",
       "119384             August                       NaN   \n",
       "119386             August                      35.0   \n",
       "\n",
       "        arrival_date_day_of_month  stays_in_weekend_nights  \\\n",
       "0                             1.0                      0.0   \n",
       "6                             1.0                      0.0   \n",
       "7                             1.0                      0.0   \n",
       "8                             1.0                      0.0   \n",
       "14                            1.0                      0.0   \n",
       "...                           ...                      ...   \n",
       "119374                       29.0                      1.0   \n",
       "119377                       30.0                      1.0   \n",
       "119383                       31.0                      2.0   \n",
       "119384                       30.0                      2.0   \n",
       "119386                       31.0                      2.0   \n",
       "\n",
       "        stays_in_week_nights  adults  children  babies meal country  \\\n",
       "0                        0.0     2.0       NaN     0.0   BB     PRT   \n",
       "6                        2.0     2.0       NaN     0.0   BB     NaN   \n",
       "7                        2.0     2.0       0.0     0.0   FB     NaN   \n",
       "8                        3.0     2.0       0.0     0.0   BB     PRT   \n",
       "14                       4.0     2.0       NaN     0.0   BB     NaN   \n",
       "...                      ...     ...       ...     ...  ...     ...   \n",
       "119374                   5.0     2.0       NaN     0.0   BB     DEU   \n",
       "119377                   4.0     2.0       0.0     0.0   SC     CHE   \n",
       "119383                   4.0     2.0       0.0     0.0   BB     DEU   \n",
       "119384                   5.0     2.0       0.0     0.0   BB     BEL   \n",
       "119386                   5.0     3.0       NaN     0.0   BB     FRA   \n",
       "\n",
       "       market_segment distribution_channel  is_repeated_guest  \\\n",
       "0                 NaN               Direct                0.0   \n",
       "6              Direct               Direct                0.0   \n",
       "7              Direct               Direct                0.0   \n",
       "8                 NaN                  NaN                0.0   \n",
       "14          Online TA                TA/TO                0.0   \n",
       "...               ...                  ...                ...   \n",
       "119374            NaN                TA/TO                0.0   \n",
       "119377            NaN                TA/TO                0.0   \n",
       "119383            NaN                TA/TO                0.0   \n",
       "119384            NaN                TA/TO                0.0   \n",
       "119386            NaN                TA/TO                0.0   \n",
       "\n",
       "        previous_cancellations  previous_bookings_not_canceled  \\\n",
       "0                          NaN                             0.0   \n",
       "6                          NaN                             0.0   \n",
       "7                          NaN                             0.0   \n",
       "8                          NaN                             0.0   \n",
       "14                         NaN                             0.0   \n",
       "...                        ...                             ...   \n",
       "119374                     NaN                             0.0   \n",
       "119377                     NaN                             0.0   \n",
       "119383                     NaN                             0.0   \n",
       "119384                     NaN                             0.0   \n",
       "119386                     NaN                             0.0   \n",
       "\n",
       "       reserved_room_type assigned_room_type  booking_changes  agent  company  \\\n",
       "0                       C                  C              3.0    NaN      NaN   \n",
       "6                       C                  C              0.0    NaN      NaN   \n",
       "7                       C                  C              0.0  303.0      NaN   \n",
       "8                       A                  A              0.0  240.0      NaN   \n",
       "14                      E                  E              0.0  241.0      NaN   \n",
       "...                   ...                ...              ...    ...      ...   \n",
       "119374                  A                  A              0.0    9.0      NaN   \n",
       "119377                  A                  A              0.0    9.0      NaN   \n",
       "119383                NaN                  A              0.0   42.0      NaN   \n",
       "119384                  A                  A              0.0  394.0      NaN   \n",
       "119386                  E                  E              0.0    9.0      NaN   \n",
       "\n",
       "        days_in_waiting_list customer_type     adr  \\\n",
       "0                        0.0     Transient    0.00   \n",
       "6                        0.0           NaN  107.00   \n",
       "7                        0.0           NaN  103.00   \n",
       "8                        0.0     Transient   82.00   \n",
       "14                       0.0     Transient   94.71   \n",
       "...                      ...           ...     ...   \n",
       "119374                   0.0     Transient  117.00   \n",
       "119377                   0.0     Transient   99.00   \n",
       "119383                   0.0     Transient   87.60   \n",
       "119384                   0.0     Transient   96.14   \n",
       "119386                   0.0     Transient  225.43   \n",
       "\n",
       "        required_car_parking_spaces  total_of_special_requests  \\\n",
       "0                               0.0                        0.0   \n",
       "6                               0.0                        0.0   \n",
       "7                               0.0                        1.0   \n",
       "8                               0.0                        1.0   \n",
       "14                              0.0                        0.0   \n",
       "...                             ...                        ...   \n",
       "119374                          0.0                        2.0   \n",
       "119377                          0.0                        1.0   \n",
       "119383                          0.0                        0.0   \n",
       "119384                          0.0                        2.0   \n",
       "119386                          0.0                        2.0   \n",
       "\n",
       "       reservation_status reservation_status_date   0  \n",
       "0               Check-Out     2015-07-01 00:00:00 NaN  \n",
       "6               Check-Out     2015-07-03 00:00:00 NaN  \n",
       "7               Check-Out     2015-07-03 00:00:00 NaN  \n",
       "8                Canceled     2015-05-06 00:00:00 NaN  \n",
       "14              Check-Out     2015-07-05 00:00:00 NaN  \n",
       "...                   ...                     ...  ..  \n",
       "119374          Check-Out     2017-04-09 00:00:00 NaN  \n",
       "119377          Check-Out                     NaN NaN  \n",
       "119383          Check-Out                     NaN NaN  \n",
       "119384          Check-Out     2017-06-09 00:00:00 NaN  \n",
       "119386          Check-Out     2017-07-09 00:00:00 NaN  \n",
       "\n",
       "[42859 rows x 32 columns]"
      ]
     },
     "execution_count": 5,
     "metadata": {},
     "output_type": "execute_result"
    }
   ],
   "source": [
    "df_isna = df[df['previous_cancellations'].isnull()]\n",
    "\n",
    "df_isna"
   ]
  },
  {
   "cell_type": "code",
   "execution_count": 6,
   "metadata": {},
   "outputs": [
    {
     "data": {
      "text/plain": [
       "Index(['hotel', 'is_canceled', 'lead_time', 'arrival_date_year',\n",
       "       'arrival_date_month', 'arrival_date_week_number',\n",
       "       'arrival_date_day_of_month', 'stays_in_weekend_nights',\n",
       "       'stays_in_week_nights', 'adults', 'children', 'babies', 'meal',\n",
       "       'country', 'market_segment', 'distribution_channel',\n",
       "       'is_repeated_guest', 'previous_cancellations',\n",
       "       'previous_bookings_not_canceled', 'reserved_room_type',\n",
       "       'assigned_room_type', 'booking_changes', 'agent', 'company',\n",
       "       'days_in_waiting_list', 'customer_type', 'adr',\n",
       "       'required_car_parking_spaces', 'total_of_special_requests',\n",
       "       'reservation_status', 'reservation_status_date', '0'],\n",
       "      dtype='object')"
      ]
     },
     "execution_count": 6,
     "metadata": {},
     "output_type": "execute_result"
    }
   ],
   "source": [
    "df.columns"
   ]
  },
  {
   "cell_type": "code",
   "execution_count": 7,
   "metadata": {},
   "outputs": [
    {
     "data": {
      "text/plain": [
       "array([2015.,   nan, 2016., 2017.])"
      ]
     },
     "execution_count": 7,
     "metadata": {},
     "output_type": "execute_result"
    }
   ],
   "source": [
    "df['arrival_date_year'].unique()"
   ]
  },
  {
   "cell_type": "code",
   "execution_count": 8,
   "metadata": {},
   "outputs": [
    {
     "data": {
      "text/plain": [
       "adults                  float64\n",
       "children                float64\n",
       "babies                  float64\n",
       "meal                     object\n",
       "country                  object\n",
       "market_segment           object\n",
       "distribution_channel     object\n",
       "dtype: object"
      ]
     },
     "execution_count": 8,
     "metadata": {},
     "output_type": "execute_result"
    }
   ],
   "source": [
    "df1 = df.iloc[:, 9:16]\n",
    "df1.dtypes"
   ]
  },
  {
   "cell_type": "code",
   "execution_count": 9,
   "metadata": {},
   "outputs": [
    {
     "data": {
      "text/plain": [
       "A    72716\n",
       "D    25280\n",
       "E     7803\n",
       "F     3750\n",
       "G     2553\n",
       "C     2374\n",
       "B     2162\n",
       "H      712\n",
       "I      363\n",
       "K      279\n",
       "P       12\n",
       "L        1\n",
       "Name: assigned_room_type, dtype: int64"
      ]
     },
     "execution_count": 9,
     "metadata": {},
     "output_type": "execute_result"
    }
   ],
   "source": [
    "df['assigned_room_type'].value_counts()"
   ]
  },
  {
   "cell_type": "code",
   "execution_count": 10,
   "metadata": {},
   "outputs": [
    {
     "data": {
      "text/plain": [
       "TA/TO        85534\n",
       "Direct       12960\n",
       "Corporate     5864\n",
       "GDS            176\n",
       "Undefined        5\n",
       "Name: distribution_channel, dtype: int64"
      ]
     },
     "execution_count": 10,
     "metadata": {},
     "output_type": "execute_result"
    }
   ],
   "source": [
    "df['distribution_channel'].value_counts()"
   ]
  },
  {
   "cell_type": "code",
   "execution_count": 11,
   "metadata": {},
   "outputs": [
    {
     "data": {
      "text/plain": [
       "0    A\n",
       "dtype: object"
      ]
     },
     "execution_count": 11,
     "metadata": {},
     "output_type": "execute_result"
    }
   ],
   "source": [
    "\n",
    "df['assigned_room_type'].mode()"
   ]
  },
  {
   "cell_type": "code",
   "execution_count": 12,
   "metadata": {},
   "outputs": [
    {
     "data": {
      "text/plain": [
       "adults                   0.000000\n",
       "children                42.052455\n",
       "babies                   0.000000\n",
       "meal                     0.000000\n",
       "country                 45.552307\n",
       "market_segment          49.798737\n",
       "distribution_channel    11.411381\n",
       "dtype: float64"
      ]
     },
     "execution_count": 12,
     "metadata": {},
     "output_type": "execute_result"
    }
   ],
   "source": [
    "df1.isnull().sum()/df1.shape[0]*100"
   ]
  },
  {
   "cell_type": "code",
   "execution_count": 13,
   "metadata": {},
   "outputs": [
    {
     "data": {
      "text/plain": [
       "array(['C', 'A', 'D', 'E', 'G', 'F', 'I', 'B', 'H', 'P', 'L', 'K'],\n",
       "      dtype=object)"
      ]
     },
     "execution_count": 13,
     "metadata": {},
     "output_type": "execute_result"
    }
   ],
   "source": [
    "df['assigned_room_type'].unique()"
   ]
  },
  {
   "cell_type": "code",
   "execution_count": 14,
   "metadata": {},
   "outputs": [
    {
     "data": {
      "text/plain": [
       "array(['G', 'C', 'D', 'H', 'F', 'A', 'E', 'I', 'B', 'K'], dtype=object)"
      ]
     },
     "execution_count": 14,
     "metadata": {},
     "output_type": "execute_result"
    }
   ],
   "source": [
    "df[df['children'] >0]['assigned_room_type'].unique()"
   ]
  },
  {
   "cell_type": "code",
   "execution_count": 15,
   "metadata": {},
   "outputs": [
    {
     "data": {
      "text/plain": [
       "array(['C', 'A', 'D', 'E', 'G', 'I', 'B', 'F', 'H', 'P', 'K'],\n",
       "      dtype=object)"
      ]
     },
     "execution_count": 15,
     "metadata": {},
     "output_type": "execute_result"
    }
   ],
   "source": [
    "df[df['children'] == 0]['assigned_room_type'].unique()"
   ]
  },
  {
   "cell_type": "code",
   "execution_count": 16,
   "metadata": {},
   "outputs": [
    {
     "data": {
      "text/plain": [
       "13.6858607686115"
      ]
     },
     "execution_count": 16,
     "metadata": {},
     "output_type": "execute_result"
    }
   ],
   "source": [
    "df['agent'].isnull().sum()/df.shape[0]*100"
   ]
  },
  {
   "cell_type": "code",
   "execution_count": 17,
   "metadata": {},
   "outputs": [
    {
     "data": {
      "text/plain": [
       "array([nan,  0.,  1.,  2., 10., 19.,  3., 17., 11., 18., 13., 16., 14.,\n",
       "       15., 12.])"
      ]
     },
     "execution_count": 17,
     "metadata": {},
     "output_type": "execute_result"
    }
   ],
   "source": [
    "df['children'].unique()"
   ]
  },
  {
   "cell_type": "code",
   "execution_count": 18,
   "metadata": {},
   "outputs": [
    {
     "data": {
      "text/plain": [
       "mean      0.119887\n",
       "median    0.000000\n",
       "Name: children, dtype: float64"
      ]
     },
     "execution_count": 18,
     "metadata": {},
     "output_type": "execute_result"
    }
   ],
   "source": [
    "df['children'].dropna().agg(['mean', 'median'])"
   ]
  },
  {
   "cell_type": "markdown",
   "metadata": {},
   "source": [
    "- **Sin niños** no suelen reservar L, P ('room_type')\n",
    "- Hay más agentes que distribution_channel nulos"
   ]
  },
  {
   "cell_type": "code",
   "execution_count": 19,
   "metadata": {},
   "outputs": [],
   "source": [
    "df = pd.read_csv('../df_primera_limpieza.csv', index_col=0)"
   ]
  },
  {
   "cell_type": "code",
   "execution_count": 20,
   "metadata": {},
   "outputs": [
    {
     "ename": "NameError",
     "evalue": "name 'df_filtrado' is not defined",
     "output_type": "error",
     "traceback": [
      "\u001b[0;31m---------------------------------------------------------------------------\u001b[0m",
      "\u001b[0;31mNameError\u001b[0m                                 Traceback (most recent call last)",
      "Cell \u001b[0;32mIn[20], line 1\u001b[0m\n\u001b[0;32m----> 1\u001b[0m \u001b[43mdf_filtrado\u001b[49m\u001b[38;5;241m.\u001b[39misnull()\u001b[38;5;241m.\u001b[39msum()\u001b[38;5;241m/\u001b[39mdf_filtrado\u001b[38;5;241m.\u001b[39mshape[\u001b[38;5;241m0\u001b[39m]\u001b[38;5;241m*\u001b[39m\u001b[38;5;241m100\u001b[39m\n",
      "\u001b[0;31mNameError\u001b[0m: name 'df_filtrado' is not defined"
     ]
    }
   ],
   "source": [
    "df_filtrado.isnull().sum()/df_filtrado.shape[0]*100"
   ]
  },
  {
   "cell_type": "code",
   "execution_count": null,
   "metadata": {},
   "outputs": [],
   "source": [
    "df_filtrado['customer_type'].value_counts()"
   ]
  },
  {
   "cell_type": "code",
   "execution_count": null,
   "metadata": {},
   "outputs": [],
   "source": [
    "porcentaje_aparicion = df_filtrado['customer_type'].value_counts(normalize=True)\n",
    "\n",
    "# Valores para imputar\n",
    "valor1 = 'Transient'\n",
    "valor2 = 'Transient-Party'\n",
    "\n",
    "# Porcentajes de aparición de los valores\n",
    "porcentaje_valor1 = porcentaje_aparicion.get(valor1, 0)\n",
    "porcentaje_valor2 = porcentaje_aparicion.get(valor2, 0)\n",
    "\n",
    "# Imputar valores nulos basados en los porcentajes\n",
    "for i, valor in enumerate(df_filtrado['customer_type']):\n",
    "    if pd.isnull(valor):\n",
    "        # Generar un número aleatorio entre 0 y 1\n",
    "        rand = np.random.rand()\n",
    "        if rand < porcentaje_valor1:\n",
    "            df_filtrado.loc[i, 'customer_type'] = valor1\n",
    "        else:\n",
    "            df_filtrado.loc[i, 'customer_type'] = valor2\n",
    "\n",
    "display(df_filtrado)"
   ]
  },
  {
   "cell_type": "code",
   "execution_count": null,
   "metadata": {},
   "outputs": [],
   "source": [
    "df_filtrado['customer_type'].isnull().sum()/df_filtrado.shape[0]*100"
   ]
  },
  {
   "cell_type": "code",
   "execution_count": null,
   "metadata": {},
   "outputs": [],
   "source": [
    "df_filtrado['customer_type'].value_counts()"
   ]
  },
  {
   "cell_type": "markdown",
   "metadata": {},
   "source": [
    "## COMPROBACIONES\n",
    "LAURA:\n",
    "- lead_time y booking_changes \n",
    "- lead_time y reservation_status\n",
    "- lead_time, booking_changes  y reservation_status\n",
    ">----------------\n",
    "FEDRA:\n",
    "- lead_time y is_cancelled \n",
    "- customer_type y is_cancelled\n",
    "- assigned_room_type y is_cancelled\n",
    ">----------------\n",
    "NEREA:\n",
    "- is_repeated_guest y is_cancelled\n",
    "- is_repeated_guest y previous_cancellations, previous_bookings_not_canceled\n",
    "- country y is_cancelled\n",
    ">----------------\n",
    "ISA:\n",
    "- cuándo hay más llegadas (mes)\n",
    "- cuándo se hacen más reservas (reservation_status_date)\n",
    "- promedio de noches por tipo de cliente\n",
    "- mapa con países que más bookean\n",
    "\n",
    "\n",
    "\n",
    "### hilos graciosos:\n",
    "- por qué repiten (is_repeated_guest y meal, etc)"
   ]
  },
  {
   "cell_type": "markdown",
   "metadata": {},
   "source": [
    "## VISUALIZACIONES"
   ]
  },
  {
   "cell_type": "code",
   "execution_count": 21,
   "metadata": {},
   "outputs": [],
   "source": [
    "import matplotlib.pyplot as plt\n",
    "import seaborn as sns\n",
    "\n",
    "import pandas as pd\n",
    "pd.set_option('display.max_columns', None) "
   ]
  },
  {
   "cell_type": "code",
   "execution_count": 22,
   "metadata": {},
   "outputs": [],
   "source": [
    "df = pd.read_csv('../df_primera_limpieza.csv', index_col=0)"
   ]
  },
  {
   "cell_type": "code",
   "execution_count": 23,
   "metadata": {},
   "outputs": [],
   "source": [
    "def periodo_tiempo(valor):\n",
    "    if valor >= 40:\n",
    "        return '40-50'\n",
    "    elif valor >= 30:\n",
    "        return '30-40'\n",
    "    elif valor >= 20:\n",
    "        return '20-30'\n",
    "    elif valor >= 10:\n",
    "        return '10-20'\n",
    "    else:\n",
    "        return '0-10'\n"
   ]
  },
  {
   "cell_type": "code",
   "execution_count": 24,
   "metadata": {},
   "outputs": [],
   "source": [
    "df['period_stays_week'] = df['stays_in_week_nights'].apply(periodo_tiempo)\n"
   ]
  },
  {
   "cell_type": "code",
   "execution_count": 25,
   "metadata": {},
   "outputs": [
    {
     "data": {
      "text/plain": [
       "(array([ 0,  1,  2,  3,  4,  5,  6,  7,  8,  9, 10, 11]),\n",
       " [Text(0, 0, 'January'),\n",
       "  Text(1, 0, 'February'),\n",
       "  Text(2, 0, 'March'),\n",
       "  Text(3, 0, 'April'),\n",
       "  Text(4, 0, 'May'),\n",
       "  Text(5, 0, 'June'),\n",
       "  Text(6, 0, 'July'),\n",
       "  Text(7, 0, 'August'),\n",
       "  Text(8, 0, 'September'),\n",
       "  Text(9, 0, 'October'),\n",
       "  Text(10, 0, 'November'),\n",
       "  Text(11, 0, 'December')])"
      ]
     },
     "execution_count": 25,
     "metadata": {},
     "output_type": "execute_result"
    },
    {
     "data": {
      "image/png": "[encoded data removed]",
      "text/plain": [
       "<Figure size 640x480 with 1 Axes>"
      ]
     },
     "metadata": {},
     "output_type": "display_data"
    }
   ],
   "source": [
    "sns.countplot(x='arrival_date_month', data=df, hue='arrival_date_year', order=['January', 'February', 'March', 'April', 'May', 'June', 'July', 'August', 'September', 'October', 'November', 'December'])\n",
    "plt.xticks(rotation = 90)"
   ]
  },
  {
   "cell_type": "code",
   "execution_count": 26,
   "metadata": {},
   "outputs": [
    {
     "data": {
      "text/plain": [
       "(array([ 0,  1,  2,  3,  4,  5,  6,  7,  8,  9, 10, 11, 12, 13, 14, 15, 16]),\n",
       " [Text(0, 0, '0.0'),\n",
       "  Text(1, 0, '1.0'),\n",
       "  Text(2, 0, '2.0'),\n",
       "  Text(3, 0, '3.0'),\n",
       "  Text(4, 0, '4.0'),\n",
       "  Text(5, 0, '5.0'),\n",
       "  Text(6, 0, '6.0'),\n",
       "  Text(7, 0, '7.0'),\n",
       "  Text(8, 0, '8.0'),\n",
       "  Text(9, 0, '9.0'),\n",
       "  Text(10, 0, '10.0'),\n",
       "  Text(11, 0, '12.0'),\n",
       "  Text(12, 0, '13.0'),\n",
       "  Text(13, 0, '14.0'),\n",
       "  Text(14, 0, '16.0'),\n",
       "  Text(15, 0, '18.0'),\n",
       "  Text(16, 0, '19.0')])"
      ]
     },
     "execution_count": 26,
     "metadata": {},
     "output_type": "execute_result"
    },
    {
     "data": {
      "image/png": "[encoded data removed]",
      "text/plain": [
       "<Figure size 640x480 with 1 Axes>"
      ]
     },
     "metadata": {},
     "output_type": "display_data"
    }
   ],
   "source": [
    "sns.countplot(x='stays_in_weekend_nights', data=df)\n",
    "plt.xticks(rotation = 90)"
   ]
  },
  {
   "cell_type": "code",
   "execution_count": 27,
   "metadata": {},
   "outputs": [
    {
     "data": {
      "text/plain": [
       "<AxesSubplot:xlabel='stays_in_week_nights', ylabel='count'>"
      ]
     },
     "execution_count": 27,
     "metadata": {},
     "output_type": "execute_result"
    },
    {
     "data": {
      "image/png": "[encoded data removed]",
      "text/plain": [
       "<Figure size 2000x500 with 2 Axes>"
      ]
     },
     "metadata": {},
     "output_type": "display_data"
    }
   ],
   "source": [
    "fig, axes = plt.subplots(nrows = 1, ncols = 2, figsize = (20, 5))\n",
    "sns.countplot(x='period_stays_week', data=df, ax=axes[0])\n",
    "sns.countplot(x=df[df['period_stays_week']=='0-10']['stays_in_week_nights'], data=df, ax=axes[1])\n"
   ]
  },
  {
   "cell_type": "code",
   "execution_count": 28,
   "metadata": {},
   "outputs": [
    {
     "data": {
      "image/png": "[encoded data removed]",
      "text/plain": [
       "<Figure size 640x480 with 1 Axes>"
      ]
     },
     "metadata": {},
     "output_type": "display_data"
    }
   ],
   "source": [
    "from collections import Counter\n",
    "\n",
    "# Datos de ejemplo\n",
    "datos = df['country']\n",
    "\n",
    "# Contar las ocurrencias de cada elemento\n",
    "contador = Counter(datos)\n",
    "\n",
    "# Obtener los cinco elementos más comunes\n",
    "elementos_comunes = contador.most_common(5)\n",
    "\n",
    "# Crear un DataFrame de Seaborn\n",
    "data = {'Elemento': [item[0] for item in elementos_comunes],\n",
    "        'Frecuencia': [item[1] for item in elementos_comunes]}\n",
    "df2 = pd.DataFrame(data)\n",
    "\n",
    "# Crear el gráfico utilizando Seaborn\n",
    "sns.barplot(x='Elemento', y='Frecuencia', data=df2)\n",
    "plt.xlabel('País')\n",
    "plt.ylabel('Frecuencia')\n",
    "plt.title('5 países que más reservan')\n",
    "plt.show()"
   ]
  },
  {
   "cell_type": "code",
   "execution_count": 29,
   "metadata": {},
   "outputs": [
    {
     "data": {
      "text/plain": [
       "<AxesSubplot:xlabel='country', ylabel='count'>"
      ]
     },
     "execution_count": 29,
     "metadata": {},
     "output_type": "execute_result"
    },
    {
     "data": {
      "image/png": "[encoded data removed]",
      "text/plain": [
       "<Figure size 640x480 with 1 Axes>"
      ]
     },
     "metadata": {},
     "output_type": "display_data"
    }
   ],
   "source": [
    "top5 = df[df['country'].isin(['PRT', 'GBR', 'FRA', 'ESP'])]\n",
    "sns.countplot(x='country', hue='is_canceled', data=top5)"
   ]
  },
  {
   "cell_type": "code",
   "execution_count": 30,
   "metadata": {},
   "outputs": [
    {
     "data": {
      "text/plain": [
       "min      0.0\n",
       "max    737.0\n",
       "Name: lead_time, dtype: float64"
      ]
     },
     "execution_count": 30,
     "metadata": {},
     "output_type": "execute_result"
    }
   ],
   "source": [
    "df['lead_time'].agg(['min', 'max'])"
   ]
  },
  {
   "cell_type": "code",
   "execution_count": 4,
   "metadata": {},
   "outputs": [],
   "source": [
    "def lead_time(valor):\n",
    "    if valor > 365:\n",
    "        return '> 12 meses'\n",
    "    elif valor > 330:\n",
    "        return '> 11 meses'\n",
    "    elif valor > 300:\n",
    "        return '> 10 meses'\n",
    "    elif valor > 270:\n",
    "        return '> 9 meses'\n",
    "    elif valor > 240:\n",
    "        return '> 8 meses'\n",
    "    elif valor > 210:\n",
    "        return '> 7 meses'\n",
    "    elif valor > 180:\n",
    "        return '> 6 meses'\n",
    "    elif valor > 150:\n",
    "        return '> 5 meses'\n",
    "    elif valor > 120:\n",
    "        return '> 4 meses'\n",
    "    elif valor > 90:\n",
    "        return '> 3 meses'\n",
    "    elif valor > 60:\n",
    "        return '> 2 meses'\n",
    "    elif valor > 30:\n",
    "        return '> 1 mes'\n",
    "    else:\n",
    "        return '< 1 mes'\n"
   ]
  },
  {
   "cell_type": "code",
   "execution_count": 5,
   "metadata": {},
   "outputs": [],
   "source": [
    "df['lead_time_months'] = df['lead_time'].apply(lead_time)"
   ]
  },
  {
   "cell_type": "code",
   "execution_count": 33,
   "metadata": {},
   "outputs": [
    {
     "data": {
      "text/plain": [
       "(array([ 0,  1,  2,  3,  4,  5,  6,  7,  8,  9, 10, 11, 12]),\n",
       " [Text(0, 0, '> 1 año'),\n",
       "  Text(1, 0, '> 11 meses'),\n",
       "  Text(2, 0, '> 10 meses'),\n",
       "  Text(3, 0, '> 9 meses'),\n",
       "  Text(4, 0, '> 8 meses'),\n",
       "  Text(5, 0, '> 7 meses'),\n",
       "  Text(6, 0, '> 6 meses'),\n",
       "  Text(7, 0, '> 5 meses'),\n",
       "  Text(8, 0, '> 4 meses'),\n",
       "  Text(9, 0, '> 3 meses'),\n",
       "  Text(10, 0, '> 2 meses'),\n",
       "  Text(11, 0, '> 1 mes'),\n",
       "  Text(12, 0, '< 1 mes')])"
      ]
     },
     "execution_count": 33,
     "metadata": {},
     "output_type": "execute_result"
    },
    {
     "data": {
      "image/png": "[encoded data removed]",
      "text/plain": [
       "<Figure size 640x480 with 1 Axes>"
      ]
     },
     "metadata": {},
     "output_type": "display_data"
    }
   ],
   "source": [
    "sns.countplot(x='lead_time_months', \n",
    "hue='is_canceled', \n",
    "data=df, \n",
    "order = [\n",
    "    '> 1 año',\n",
    "    '> 11 meses',\n",
    "    '> 10 meses',\n",
    "    '> 9 meses',\n",
    "    '> 8 meses',\n",
    "    '> 7 meses',\n",
    "    '> 6 meses',\n",
    "    '> 5 meses',\n",
    "    '> 4 meses',\n",
    "    '> 3 meses',\n",
    "    '> 2 meses',\n",
    "    '> 1 mes',\n",
    "    '< 1 mes'\n",
    "])\n",
    "plt.xticks(rotation = 90)"
   ]
  },
  {
   "cell_type": "code",
   "execution_count": 1,
   "metadata": {},
   "outputs": [
    {
     "name": "stderr",
     "output_type": "stream",
     "text": [
      "C:\\Users\\Isabel\\AppData\\Local\\Temp\\ipykernel_7820\\3010077580.py:1: DeprecationWarning: \n",
      "Pyarrow will become a required dependency of pandas in the next major release of pandas (pandas 3.0),\n",
      "(to allow more performant data types, such as the Arrow string type, and better interoperability with other libraries)\n",
      "but was not found to be installed on your system.\n",
      "If this would cause problems for you,\n",
      "please provide us feedback at https://github.com/pandas-dev/pandas/issues/54466\n",
      "        \n",
      "  import pandas as pd\n",
      "C:\\Users\\Isabel\\AppData\\Local\\Temp\\ipykernel_7820\\3010077580.py:6: DtypeWarning: Columns (2) have mixed types. Specify dtype option on import or set low_memory=False.\n",
      "  df = pd.read_csv('../files/df_final.csv', index_col=0)\n"
     ]
    }
   ],
   "source": [
    "import pandas as pd\n",
    "import numpy as np\n",
    "import matplotlib.pyplot as plt\n",
    "import seaborn as sns\n",
    "\n",
    "df = pd.read_csv('../files/df_final.csv', index_col=0)"
   ]
  },
  {
   "cell_type": "code",
   "execution_count": 2,
   "metadata": {},
   "outputs": [
    {
     "data": {
      "text/plain": [
       "Index(['hotel', 'is_canceled', 'lead_time', 'arrival_date_year',\n",
       "       'arrival_date_month', 'arrival_date_week_number',\n",
       "       'arrival_date_day_of_month', 'stays_in_weekend_nights',\n",
       "       'stays_in_week_nights', 'adults', 'children', 'babies', 'meal',\n",
       "       'country', 'distribution_channel', 'is_repeated_guest',\n",
       "       'previous_cancellations', 'previous_bookings_not_canceled',\n",
       "       'assigned_room_type', 'booking_changes', 'agent',\n",
       "       'days_in_waiting_list', 'customer_type', 'average_daily_rate',\n",
       "       'required_car_parking_spaces', 'total_of_special_requests',\n",
       "       'reservation_status', 'reservation_status_date'],\n",
       "      dtype='object')"
      ]
     },
     "execution_count": 2,
     "metadata": {},
     "output_type": "execute_result"
    }
   ],
   "source": [
    "df.columns"
   ]
  },
  {
   "cell_type": "code",
   "execution_count": 6,
   "metadata": {},
   "outputs": [
    {
     "data": {
      "text/plain": [
       "([0, 1, 2, 3, 4, 5, 6, 7, 8, 9, 10, 11, 12],\n",
       " [Text(0, 0, '> 1 año'),\n",
       "  Text(1, 0, '> 11 meses'),\n",
       "  Text(2, 0, '> 10 meses'),\n",
       "  Text(3, 0, '> 9 meses'),\n",
       "  Text(4, 0, '> 8 meses'),\n",
       "  Text(5, 0, '> 7 meses'),\n",
       "  Text(6, 0, '> 6 meses'),\n",
       "  Text(7, 0, '> 5 meses'),\n",
       "  Text(8, 0, '> 4 meses'),\n",
       "  Text(9, 0, '> 3 meses'),\n",
       "  Text(10, 0, '> 2 meses'),\n",
       "  Text(11, 0, '> 1 mes'),\n",
       "  Text(12, 0, '< 1 mes')])"
      ]
     },
     "execution_count": 6,
     "metadata": {},
     "output_type": "execute_result"
    },
    {
     "data": {
      "image/png": "[encoded data removed]",
      "text/plain": [
       "<Figure size 640x480 with 1 Axes>"
      ]
     },
     "metadata": {},
     "output_type": "display_data"
    }
   ],
   "source": [
    "sns.countplot(x='lead_time_months', \n",
    "hue='reservation_status', \n",
    "data=df, \n",
    "order = [\n",
    "    '> 1 año',\n",
    "    '> 11 meses',\n",
    "    '> 10 meses',\n",
    "    '> 9 meses',\n",
    "    '> 8 meses',\n",
    "    '> 7 meses',\n",
    "    '> 6 meses',\n",
    "    '> 5 meses',\n",
    "    '> 4 meses',\n",
    "    '> 3 meses',\n",
    "    '> 2 meses',\n",
    "    '> 1 mes',\n",
    "    '< 1 mes'\n",
    "])\n",
    "plt.xticks(rotation = 90)"
   ]
  },
  {
   "cell_type": "code",
   "execution_count": 34,
   "metadata": {},
   "outputs": [
    {
     "name": "stdout",
     "output_type": "stream",
     "text": [
      "Coeficiente de correlación de Pearson: 0.2900300052578754\n",
      "Valor p: 0.0\n"
     ]
    }
   ],
   "source": [
    "from scipy.stats import pearsonr\n",
    "\n",
    "\n",
    "# Calcular la correlación de Pearson\n",
    "correlacion, valor_p = pearsonr(df['lead_time'], (df['is_canceled']))\n",
    "\n",
    "print(\"Coeficiente de correlación de Pearson:\", correlacion)\n",
    "print(\"Valor p:\", valor_p)\n"
   ]
  },
  {
   "cell_type": "markdown",
   "metadata": {},
   "source": [
    "## OBSERVACIONES:\n",
    "\n",
    "**lead_time y is_canceled**\n",
    "- parece haber una correlación moderada \n",
    "- vemos que con más de 8 meses de antelación es más probable que cancelen (en 7 meses ya se acercan el número de True y False)\n",
    "\n",
    "**arrival_date_month por año**\n",
    "- 2015: septiembre y octubre\n",
    "- 2016: octubre con diferencia, seguido de abril\n",
    "- 2017: mayo\n",
    "\n",
    "**stays_in_weekends_nights**:\n",
    "- cómo se van a quedar más de 2?\n",
    "- la gente se queda sobre todo entre semana\n",
    "- si se alojan, es el finde entero (2 noches)\n",
    "\n",
    "**week_nights**:\n",
    "- suelen quedarse de 0-10 sobre todo; lo que más, 1 o 2 noches\n",
    "\n",
    "**países desde donde se reservan más**:\n",
    "- Portugal con diferencia\n",
    "- Seguido de Gran Bretaña, Francia y España\n",
    "\n",
    "**country y is_cancelled**:\n",
    "- En Portugal cancelan más reservas de las que salen adelante\n",
    "\n",
    "\n",
    "\n",
    "\n"
   ]
  },
  {
   "cell_type": "code",
   "execution_count": 1,
   "metadata": {},
   "outputs": [
    {
     "name": "stderr",
     "output_type": "stream",
     "text": [
      "C:\\Users\\Isabel\\AppData\\Local\\Temp\\ipykernel_7296\\4164747749.py:1: DeprecationWarning: \n",
      "Pyarrow will become a required dependency of pandas in the next major release of pandas (pandas 3.0),\n",
      "(to allow more performant data types, such as the Arrow string type, and better interoperability with other libraries)\n",
      "but was not found to be installed on your system.\n",
      "If this would cause problems for you,\n",
      "please provide us feedback at https://github.com/pandas-dev/pandas/issues/54466\n",
      "        \n",
      "  import pandas as pd\n"
     ]
    }
   ],
   "source": [
    "import pandas as pd\n",
    "import numpy as np\n",
    "import matplotlib.pyplot as plt\n",
    "import seaborn as sns\n",
    "\n",
    "df =pd.read_csv('../df_definitivo.csv')"
   ]
  },
  {
   "cell_type": "code",
   "execution_count": 4,
   "metadata": {},
   "outputs": [
    {
     "data": {
      "text/plain": [
       "Index(['hotel', 'is_canceled', 'lead_time', 'arrival_date_year',\n",
       "       'arrival_date_month', 'arrival_date_week_number',\n",
       "       'arrival_date_day_of_month', 'stays_in_weekend_nights',\n",
       "       'stays_in_week_nights', 'adults', 'children', 'babies', 'meal',\n",
       "       'country', 'distribution_channel', 'is_repeated_guest',\n",
       "       'previous_cancellations', 'previous_bookings_not_canceled',\n",
       "       'assigned_room_type', 'booking_changes', 'agent',\n",
       "       'days_in_waiting_list', 'customer_type', 'average daily rate',\n",
       "       'required_car_parking_spaces', 'total_of_special_requests',\n",
       "       'reservation_status', 'reservation_status_date', 'lead_time_months'],\n",
       "      dtype='object')"
      ]
     },
     "execution_count": 4,
     "metadata": {},
     "output_type": "execute_result"
    }
   ],
   "source": [
    "df.columns"
   ]
  },
  {
   "cell_type": "code",
   "execution_count": 6,
   "metadata": {},
   "outputs": [
    {
     "data": {
      "text/plain": [
       "([0, 1, 2, 3, 4, 5, 6, 7, 8, 9, 10, 11, 12],\n",
       " [Text(0, 0, '> 12 meses'),\n",
       "  Text(1, 0, '> 11 meses'),\n",
       "  Text(2, 0, '> 10 meses'),\n",
       "  Text(3, 0, '> 9 meses'),\n",
       "  Text(4, 0, '> 8 meses'),\n",
       "  Text(5, 0, '> 7 meses'),\n",
       "  Text(6, 0, '> 6 meses'),\n",
       "  Text(7, 0, '> 5 meses'),\n",
       "  Text(8, 0, '> 4 meses'),\n",
       "  Text(9, 0, '> 3 meses'),\n",
       "  Text(10, 0, '> 2 meses'),\n",
       "  Text(11, 0, '> 1 mes'),\n",
       "  Text(12, 0, '< 1 mes')])"
      ]
     },
     "execution_count": 6,
     "metadata": {},
     "output_type": "execute_result"
    },
    {
     "data": {
      "image/png": "[encoded data removed]",
      "text/plain": [
       "<Figure size 640x480 with 1 Axes>"
      ]
     },
     "metadata": {},
     "output_type": "display_data"
    }
   ],
   "source": [
    "sns.countplot(x='lead_time_months', data=df, order=[\n",
    "    '> 12 meses',\n",
    "    '> 11 meses',\n",
    "    '> 10 meses',\n",
    "    '> 9 meses',\n",
    "    '> 8 meses',\n",
    "    '> 7 meses',\n",
    "    '> 6 meses',\n",
    "    '> 5 meses',\n",
    "    '> 4 meses',\n",
    "    '> 3 meses',\n",
    "    '> 2 meses',\n",
    "    '> 1 mes',\n",
    "    '< 1 mes'\n",
    "])\n",
    "\n",
    "plt.xticks(rotation = 90)"
   ]
  }
 ],
 "metadata": {
  "kernelspec": {
   "display_name": "Python 3",
   "language": "python",
   "name": "python3"
  },
  "language_info": {
   "codemirror_mode": {
    "name": "ipython",
    "version": 3
   },
   "file_extension": ".py",
   "mimetype": "text/x-python",
   "name": "python",
   "nbconvert_exporter": "python",
   "pygments_lexer": "ipython3",
   "version": "3.9.7"
  }
 },
 "nbformat": 4,
 "nbformat_minor": 2
}
