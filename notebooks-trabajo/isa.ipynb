{
 "cells": [
  {
   "cell_type": "code",
   "execution_count": null,
   "metadata": {},
   "outputs": [],
   "source": [
    "import pandas as pd\n",
    "import numpy as np\n",
    "pd.set_option('display.max_columns', None)"
   ]
  },
  {
   "cell_type": "code",
   "execution_count": null,
   "metadata": {},
   "outputs": [],
   "source": [
    "df = pd.read_csv('../df_primera_limpieza.csv', index_col=0)"
   ]
  },
  {
   "cell_type": "code",
   "execution_count": null,
   "metadata": {},
   "outputs": [],
   "source": [
    "df[df['customer_type']=='Group']['children'].unique()"
   ]
  },
  {
   "cell_type": "code",
   "execution_count": null,
   "metadata": {},
   "outputs": [],
   "source": [
    "df[(df['children']>10)&(df['customer_type']=='Transient')][['children', 'customer_type']]"
   ]
  },
  {
   "cell_type": "code",
   "execution_count": null,
   "metadata": {},
   "outputs": [],
   "source": [
    "df_isna = df[df['previous_cancellations'].isnull()]\n",
    "\n",
    "df_isna"
   ]
  },
  {
   "cell_type": "code",
   "execution_count": null,
   "metadata": {},
   "outputs": [],
   "source": [
    "df.columns"
   ]
  },
  {
   "cell_type": "code",
   "execution_count": null,
   "metadata": {},
   "outputs": [],
   "source": [
    "df['arrival_date_year'].unique()"
   ]
  },
  {
   "cell_type": "code",
   "execution_count": null,
   "metadata": {},
   "outputs": [],
   "source": [
    "df1 = df.iloc[:, 9:16]\n",
    "df1.dtypes"
   ]
  },
  {
   "cell_type": "code",
   "execution_count": null,
   "metadata": {},
   "outputs": [],
   "source": [
    "df['assigned_room_type'].value_counts()"
   ]
  },
  {
   "cell_type": "code",
   "execution_count": null,
   "metadata": {},
   "outputs": [],
   "source": [
    "df['distribution_channel'].value_counts()"
   ]
  },
  {
   "cell_type": "code",
   "execution_count": null,
   "metadata": {},
   "outputs": [],
   "source": [
    "\n",
    "df['assigned_room_type'].mode()"
   ]
  },
  {
   "cell_type": "code",
   "execution_count": null,
   "metadata": {},
   "outputs": [],
   "source": [
    "df1.isnull().sum()/df1.shape[0]*100"
   ]
  },
  {
   "cell_type": "code",
   "execution_count": null,
   "metadata": {},
   "outputs": [],
   "source": [
    "df['assigned_room_type'].unique()"
   ]
  },
  {
   "cell_type": "code",
   "execution_count": null,
   "metadata": {},
   "outputs": [],
   "source": [
    "df[df['children'] >0]['assigned_room_type'].unique()"
   ]
  },
  {
   "cell_type": "code",
   "execution_count": null,
   "metadata": {},
   "outputs": [],
   "source": [
    "df[df['children'] == 0]['assigned_room_type'].unique()"
   ]
  },
  {
   "cell_type": "code",
   "execution_count": null,
   "metadata": {},
   "outputs": [],
   "source": [
    "df['agent'].isnull().sum()/df.shape[0]*100"
   ]
  },
  {
   "cell_type": "code",
   "execution_count": null,
   "metadata": {},
   "outputs": [],
   "source": [
    "df['children'].unique()"
   ]
  },
  {
   "cell_type": "code",
   "execution_count": null,
   "metadata": {},
   "outputs": [],
   "source": [
    "df['children'].dropna().agg(['mean', 'median'])"
   ]
  },
  {
   "cell_type": "markdown",
   "metadata": {},
   "source": [
    "- **Sin niños** no suelen reservar L, P ('room_type')\n",
    "- Hay más agentes que distribution_channel nulos"
   ]
  },
  {
   "cell_type": "code",
   "execution_count": null,
   "metadata": {},
   "outputs": [],
   "source": [
    "df = pd.read_csv('../df_primera_limpieza.csv', index_col=0)"
   ]
  },
  {
   "cell_type": "code",
   "execution_count": null,
   "metadata": {},
   "outputs": [],
   "source": [
    "df_filtrado.isnull().sum()/df_filtrado.shape[0]*100"
   ]
  },
  {
   "cell_type": "code",
   "execution_count": null,
   "metadata": {},
   "outputs": [],
   "source": [
    "df_filtrado['customer_type'].value_counts()"
   ]
  },
  {
   "cell_type": "code",
   "execution_count": null,
   "metadata": {},
   "outputs": [],
   "source": [
    "porcentaje_aparicion = df_filtrado['customer_type'].value_counts(normalize=True)\n",
    "\n",
    "# Valores para imputar\n",
    "valor1 = 'Transient'\n",
    "valor2 = 'Transient-Party'\n",
    "\n",
    "# Porcentajes de aparición de los valores\n",
    "porcentaje_valor1 = porcentaje_aparicion.get(valor1, 0)\n",
    "porcentaje_valor2 = porcentaje_aparicion.get(valor2, 0)\n",
    "\n",
    "# Imputar valores nulos basados en los porcentajes\n",
    "for i, valor in enumerate(df_filtrado['customer_type']):\n",
    "    if pd.isnull(valor):\n",
    "        # Generar un número aleatorio entre 0 y 1\n",
    "        rand = np.random.rand()\n",
    "        if rand < porcentaje_valor1:\n",
    "            df_filtrado.loc[i, 'customer_type'] = valor1\n",
    "        else:\n",
    "            df_filtrado.loc[i, 'customer_type'] = valor2\n",
    "\n",
    "display(df_filtrado)"
   ]
  },
  {
   "cell_type": "code",
   "execution_count": null,
   "metadata": {},
   "outputs": [],
   "source": [
    "df_filtrado['customer_type'].isnull().sum()/df_filtrado.shape[0]*100"
   ]
  },
  {
   "cell_type": "code",
   "execution_count": null,
   "metadata": {},
   "outputs": [],
   "source": [
    "df_filtrado['customer_type'].value_counts()"
   ]
  },
  {
   "cell_type": "markdown",
   "metadata": {},
   "source": [
    "## COMPROBACIONES\n",
    "LAURA:\n",
    "- lead_time y booking_changes \n",
    "- lead_time y reservation_status\n",
    "- lead_time, booking_changes  y reservation_status\n",
    ">----------------\n",
    "FEDRA:\n",
    "- lead_time y is_cancelled \n",
    "- customer_type y is_cancelled\n",
    "- assigned_room_type y is_cancelled\n",
    ">----------------\n",
    "NEREA:\n",
    "- is_repeated_guest y is_cancelled\n",
    "- is_repeated_guest y previous_cancellations, previous_bookings_not_canceled\n",
    "- country y is_cancelled\n",
    ">----------------\n",
    "ISA:\n",
    "- cuándo hay más llegadas (mes)\n",
    "- cuándo se hacen más reservas (reservation_status_date)\n",
    "- promedio de noches por tipo de cliente\n",
    "- mapa con países que más bookean\n",
    "\n",
    "\n",
    "\n",
    "### hilos graciosos:\n",
    "- por qué repiten (is_repeated_guest y meal, etc)"
   ]
  },
  {
   "cell_type": "markdown",
   "metadata": {},
   "source": [
    "## VISUALIZACIONES"
   ]
  },
  {
   "cell_type": "code",
   "execution_count": null,
   "metadata": {},
   "outputs": [],
   "source": [
    "import matplotlib.pyplot as plt\n",
    "import seaborn as sns\n",
    "\n",
    "import pandas as pd\n",
    "pd.set_option('display.max_columns', None) "
   ]
  },
  {
   "cell_type": "code",
   "execution_count": null,
   "metadata": {},
   "outputs": [],
   "source": [
    "df = pd.read_csv('../df_primera_limpieza.csv', index_col=0)"
   ]
  },
  {
   "cell_type": "code",
   "execution_count": null,
   "metadata": {},
   "outputs": [],
   "source": [
    "def periodo_tiempo(valor):\n",
    "    if valor >= 40:\n",
    "        return '40-50'\n",
    "    elif valor >= 30:\n",
    "        return '30-40'\n",
    "    elif valor >= 20:\n",
    "        return '20-30'\n",
    "    elif valor >= 10:\n",
    "        return '10-20'\n",
    "    else:\n",
    "        return '0-10'\n"
   ]
  },
  {
   "cell_type": "code",
   "execution_count": null,
   "metadata": {},
   "outputs": [],
   "source": [
    "df['period_stays_week'] = df['stays_in_week_nights'].apply(periodo_tiempo)\n"
   ]
  },
  {
   "cell_type": "code",
   "execution_count": null,
   "metadata": {},
   "outputs": [],
   "source": [
    "sns.countplot(x='arrival_date_month', data=df, hue='arrival_date_year', order=['January', 'February', 'March', 'April', 'May', 'June', 'July', 'August', 'September', 'October', 'November', 'December'])\n",
    "plt.xticks(rotation = 90)"
   ]
  },
  {
   "cell_type": "code",
   "execution_count": null,
   "metadata": {},
   "outputs": [],
   "source": [
    "sns.countplot(x='stays_in_weekend_nights', data=df)\n",
    "plt.xticks(rotation = 90)"
   ]
  },
  {
   "cell_type": "code",
   "execution_count": null,
   "metadata": {},
   "outputs": [],
   "source": [
    "fig, axes = plt.subplots(nrows = 1, ncols = 2, figsize = (20, 5))\n",
    "sns.countplot(x='period_stays_week', data=df, ax=axes[0])\n",
    "sns.countplot(x=df[df['period_stays_week']=='0-10']['stays_in_week_nights'], data=df, ax=axes[1])\n"
   ]
  },
  {
   "cell_type": "code",
   "execution_count": null,
   "metadata": {},
   "outputs": [],
   "source": [
    "from collections import Counter\n",
    "\n",
    "# Datos de ejemplo\n",
    "datos = df['country']\n",
    "\n",
    "# Contar las ocurrencias de cada elemento\n",
    "contador = Counter(datos)\n",
    "\n",
    "# Obtener los cinco elementos más comunes\n",
    "elementos_comunes = contador.most_common(5)\n",
    "\n",
    "# Crear un DataFrame de Seaborn\n",
    "data = {'Elemento': [item[0] for item in elementos_comunes],\n",
    "        'Frecuencia': [item[1] for item in elementos_comunes]}\n",
    "df2 = pd.DataFrame(data)\n",
    "\n",
    "# Crear el gráfico utilizando Seaborn\n",
    "sns.barplot(x='Elemento', y='Frecuencia', data=df2)\n",
    "plt.xlabel('País')\n",
    "plt.ylabel('Frecuencia')\n",
    "plt.title('5 países que más reservan')\n",
    "plt.show()"
   ]
  },
  {
   "cell_type": "code",
   "execution_count": null,
   "metadata": {},
   "outputs": [],
   "source": [
    "top5 = df[df['country'].isin(['PRT', 'GBR', 'FRA', 'ESP'])]\n",
    "sns.countplot(x='country', hue='is_canceled', data=top5)"
   ]
  },
  {
   "cell_type": "code",
   "execution_count": null,
   "metadata": {},
   "outputs": [],
   "source": [
    "df['lead_time'].agg(['min', 'max'])"
   ]
  },
  {
   "cell_type": "code",
   "execution_count": null,
   "metadata": {},
   "outputs": [],
   "source": [
    "def lead_time(valor):\n",
    "    if valor > 365:\n",
    "        return '> 1 año'\n",
    "    elif valor > 330:\n",
    "        return '> 11 meses'\n",
    "    elif valor > 300:\n",
    "        return '> 10 meses'\n",
    "    elif valor > 270:\n",
    "        return '> 9 meses'\n",
    "    elif valor > 240:\n",
    "        return '> 8 meses'\n",
    "    elif valor > 210:\n",
    "        return '> 7 meses'\n",
    "    elif valor > 180:\n",
    "        return '> 6 meses'\n",
    "    elif valor > 150:\n",
    "        return '> 5 meses'\n",
    "    elif valor > 120:\n",
    "        return '> 4 meses'\n",
    "    elif valor > 90:\n",
    "        return '> 3 meses'\n",
    "    elif valor > 60:\n",
    "        return '> 2 meses'\n",
    "    elif valor > 30:\n",
    "        return '> 1 mes'\n",
    "    else:\n",
    "        return '< 1 mes'\n"
   ]
  },
  {
   "cell_type": "code",
   "execution_count": null,
   "metadata": {},
   "outputs": [],
   "source": [
    "df['lead_time_months'] = df['lead_time'].apply(lead_time)"
   ]
  },
  {
   "cell_type": "code",
   "execution_count": null,
   "metadata": {},
   "outputs": [],
   "source": [
    "sns.countplot(x='lead_time_months', \n",
    "hue='is_canceled', \n",
    "data=df, \n",
    "order = [\n",
    "    '> 1 año',\n",
    "    '> 11 meses',\n",
    "    '> 10 meses',\n",
    "    '> 9 meses',\n",
    "    '> 8 meses',\n",
    "    '> 7 meses',\n",
    "    '> 6 meses',\n",
    "    '> 5 meses',\n",
    "    '> 4 meses',\n",
    "    '> 3 meses',\n",
    "    '> 2 meses',\n",
    "    '> 1 mes',\n",
    "    '< 1 mes'\n",
    "])\n",
    "plt.xticks(rotation = 90)"
   ]
  },
  {
   "cell_type": "code",
   "execution_count": null,
   "metadata": {},
   "outputs": [],
   "source": [
    "from scipy.stats import pearsonr\n",
    "\n",
    "\n",
    "# Calcular la correlación de Pearson\n",
    "correlacion, valor_p = pearsonr(df['lead_time'], (df['is_canceled']))\n",
    "\n",
    "print(\"Coeficiente de correlación de Pearson:\", correlacion)\n",
    "print(\"Valor p:\", valor_p)\n"
   ]
  },
  {
   "cell_type": "markdown",
   "metadata": {},
   "source": [
    "## OBSERVACIONES:\n",
    "\n",
    "**lead_time y is_canceled**\n",
    "- parece haber una correlación moderada \n",
    "- vemos que con más de 8 meses de antelación es más probable que cancelen (en 7 meses ya se acercan el número de True y False)\n",
    "\n",
    "**arrival_date_month por año**\n",
    "- 2015: septiembre y octubre\n",
    "- 2016: octubre con diferencia, seguido de abril\n",
    "- 2017: mayo\n",
    "\n",
    "**stays_in_weekends_nights**:\n",
    "- cómo se van a quedar más de 2?\n",
    "- la gente se queda sobre todo entre semana\n",
    "- si se alojan, es el finde entero (2 noches)\n",
    "\n",
    "**week_nights**:\n",
    "- suelen quedarse de 0-10 sobre todo; lo que más, 1 o 2 noches\n",
    "\n",
    "**países desde donde se reservan más**:\n",
    "- Portugal con diferencia\n",
    "- Seguido de Gran Bretaña, Francia y España\n",
    "\n",
    "**country y is_cancelled**:\n",
    "- En Portugal cancelan más reservas de las que salen adelante\n",
    "\n",
    "\n",
    "\n",
    "\n"
   ]
  }
 ],
 "metadata": {
  "kernelspec": {
   "display_name": "Python 3",
   "language": "python",
   "name": "python3"
  },
  "language_info": {
   "codemirror_mode": {
    "name": "ipython",
    "version": 3
   },
   "file_extension": ".py",
   "mimetype": "text/x-python",
   "name": "python",
   "nbconvert_exporter": "python",
   "pygments_lexer": "ipython3",
   "version": "3.9.7"
  }
 },
 "nbformat": 4,
 "nbformat_minor": 2
}
